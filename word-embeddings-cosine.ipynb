{
 "nbformat": 4,
 "nbformat_minor": 0,
 "metadata": {
  "colab": {
   "provenance": []
  },
  "kernelspec": {
   "name": "python3",
   "display_name": "Python 3 (ipykernel)",
   "language": "python"
  },
  "language_info": {
   "name": "python"
  }
 },
 "cells": [
  {
   "cell_type": "markdown",
   "source": [
    "# ================================================\n",
    "# Laboratorio 2 — Similitud de Coseno\n",
    "# ================================================\n",
    "\n",
    "# Instrucciones\n",
    "1. **Carga de embeddings**  \n",
    "   - Utilizar las representaciones vectoriales preentrenadas (*GloVe 100d*).  \n",
    "   - Verificar que los términos requeridos estén contenidos en el vocabulario.  \n",
    "\n",
    "2. **Cálculo de vectores de expresión**  \n",
    "   - Construir expresiones vectoriales simples mediante operaciones aritméticas (suma, resta).  \n",
    "\n",
    "3. **Medición de similitud**  \n",
    "   - Calcular la similitud de coseno entre los vectores de la expresión y los vectores de referencia.  \n",
    "   - Reportar:  \n",
    "     - Valor de la similitud de coseno.  \n",
    "     - Normas de cada vector (\\(\\|\\mathbf{u}\\|\\)).  \n",
    "\n",
    "4. **Casos de estudio**  \n",
    "   Realizar caso por caso\n",
    "\n",
    "5. **Documentación de resultados**  \n",
    "   - Registrar en el notebook los valores obtenidos de similitud y normas vectoriales para cada caso.  \n",
    "   - Incluir comentarios breves interpretando los resultados.  \n",
    "\n",
    "6. **Conclusiones**  \n",
    "   - Redactar conclusiones **caso por caso** sobre la utilidad de la similitud de coseno."
   ],
   "metadata": {
    "id": "Zgc87rWWCg9e"
   }
  },
  {
   "cell_type": "code",
   "source": [
    "# Solo si es necesario\n",
    "# !pip install gensim"
   ],
   "metadata": {
    "id": "znm3REDwDFzf"
   },
   "outputs": [],
   "execution_count": null
  },
  {
   "cell_type": "code",
   "source": [
    "import numpy as np\n",
    "from typing import List\n",
    "import gensim.downloader as api"
   ],
   "metadata": {
    "id": "q8Wdrh6SDLE-"
   },
   "outputs": [],
   "execution_count": null
  },
  {
   "cell_type": "code",
   "source": [
    "# ========= 1) Cargar GloVe 100D =========\n",
    "model = api.load(\"glove-wiki-gigaword-100\")"
   ],
   "metadata": {
    "id": "NhOrYPOYDfm6"
   },
   "outputs": [],
   "execution_count": null
  },
  {
   "cell_type": "code",
   "source": [
    "# ========= 2) Funciones utilitarias =========\n",
    "def embedding(word: str) -> np.ndarray:\n",
    "    \"\"\"Vector de la palabra (lanza KeyError si no está en vocab).\"\"\"\n",
    "    return model[word]\n",
    "\n",
    "def build_vector(plus: List[str], minus: List[str]) -> np.ndarray:\n",
    "    \"\"\"Suma y resta embeddings explícitamente.\"\"\"\n",
    "    dim = model[next(iter(model.key_to_index))].shape[0]\n",
    "    v = np.zeros(dim, dtype=np.float32)\n",
    "    for w in plus:\n",
    "        if w in model:\n",
    "            v += model[w]\n",
    "        else:\n",
    "            print(f\"[OOV] '{w}' no está en el vocabulario.\")\n",
    "    for w in minus:\n",
    "        if w in model:\n",
    "            v -= model[w]\n",
    "        else:\n",
    "            print(f\"[OOV] '{w}' no está en el vocabulario.\")\n",
    "    return v\n",
    "\n",
    "def cos(a: np.ndarray, b: np.ndarray) -> float:\n",
    "    na, nb = np.linalg.norm(a), np.linalg.norm(b)\n",
    "    if na == 0 or nb == 0:\n",
    "        return float(\"nan\")\n",
    "    return float(np.dot(a, b) / (na * nb))\n",
    "\n",
    "def vec_norm(v: np.ndarray) -> float:\n",
    "    return float(np.linalg.norm(v))\n",
    "\n",
    "def report_case(label, plus, minus, target_plus):\n",
    "    expr_vec   = build_vector(plus, minus)\n",
    "    target_vec = build_vector(target_plus, [])\n",
    "    print(\"====\", label, \"====\")\n",
    "    print(\"Expresión =\", \" + \".join(plus) + \" - \" + \" - \".join(minus) if minus else \" + \".join(plus))\n",
    "    print(\"Target    =\", \" + \".join(target_plus))\n",
    "    print(\"cos(expr, target) =\", round(cos(expr_vec, target_vec), 6))\n",
    "    print(\"||expr||           =\", round(vec_norm(expr_vec), 6))\n",
    "    print(\"||target||         =\", round(vec_norm(target_vec), 6))\n",
    "    print()\n",
    "\n",
    "def nearest_neighbors(plus: List[str], minus: List[str], topn: int = 3):\n",
    "    \"\"\"Encuentra los vecinos más cercanos a una expresión.\"\"\"\n",
    "    return 0/0  # Hehe division por cero"
   ],
   "metadata": {
    "id": "MSLOx52ZDQfl"
   },
   "outputs": [],
   "execution_count": null
  },
  {
   "cell_type": "markdown",
   "source": [
    "## Caso 1 — Capitales\n",
    "\n",
    "Construya un vector que represente la relación:  \n",
    "**paris + italy - france ≈ rome**\n",
    "\n",
    "1. Defina el vector de la expresión (`expr_vec`).  \n",
    "2. Defina el vector objetivo (`target_vec`).  \n",
    "3. Calcule `cos(expr, target)`, `||expr||` y `||target||`.  \n",
    "4. Escriba su conclusión.  "
   ],
   "metadata": {
    "id": "jYmlGtmYDqd1"
   }
  },
  {
   "cell_type": "markdown",
   "source": [
    "## Caso 2 — Dictador/País\n",
    "\n",
    "Construya un vector que represente la relación:  \n",
    "**hitler + italy - germany**\n",
    "\n",
    "1. Construya el vector de la expresión.  \n",
    "2. Encuentre los **3 vecinos más cercanos** (`nearest_neighbors`).  \n",
    "3. Reporte la similitud coseno con cada vecino.  \n",
    "4. Escriba su interpretación de los resultados.  "
   ],
   "metadata": {
    "id": "wDCO5IIDEjHR"
   }
  },
  {
   "cell_type": "markdown",
   "source": [
    "## Caso 3 — Religión/Líder\n",
    "\n",
    "Construya un vector que represente la relación:  \n",
    "**christianity ≈ jesus**\n",
    "\n",
    "1. Construya el vector de la palabra `christianity`.  \n",
    "2. Encuentre los **3 vecinos más cercanos** (`nearest_neighbors`).  \n",
    "3. Reporte la similitud coseno con cada vecino.  \n",
    "4. Escriba su interpretación: ¿aparece `jesus` entre los vecinos?  "
   ],
   "metadata": {
    "id": "IltzpJtcHmYf"
   }
  },
  {
   "cell_type": "markdown",
   "source": [
    "## Caso 4 — Opuestos\n",
    "\n",
    "Analice la relación:  \n",
    "**good - bad**\n",
    "\n",
    "1. Construya el vector de la expresión `good - bad`.  \n",
    "2. Encuentre los **3 vecinos más cercanos** (`nearest_neighbors`).  \n",
    "3. Reporte la similitud coseno con cada vecino.  \n",
    "4. Escriba su conclusión sobre si los vecinos reflejan un contraste u oposición semántica."
   ],
   "metadata": {
    "id": "ylamHudTHtkF"
   }
  },
  {
   "cell_type": "markdown",
   "source": [
    "## Caso 5 — Propio\n",
    "\n",
    "Defina usted mismo un caso interesante. Ejemplos:  \n",
    "- `king - man + woman`  \n",
    "- `tokyo + france - japan`  \n",
    "- `apple - technology`  \n",
    "\n",
    "1. Construya la expresión vectorial que haya definido.  \n",
    "2. Encuentre los **3 vecinos más cercanos** (`nearest_neighbors`).  \n",
    "3. Reporte la similitud coseno con cada vecino.  \n",
    "4. Redacte una conclusión explicando si los resultados corresponden a su hipótesis inicial."
   ],
   "metadata": {
    "id": "_RKNyXiMHySR"
   }
  },
  {
   "metadata": {},
   "cell_type": "code",
   "source": "",
   "outputs": [],
   "execution_count": null
  }
 ]
}
